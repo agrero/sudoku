{
 "cells": [
  {
   "cell_type": "code",
   "execution_count": 1,
   "metadata": {},
   "outputs": [],
   "source": [
    "import pandas as pd\n",
    "import os       "
   ]
  },
  {
   "cell_type": "code",
   "execution_count": 2,
   "metadata": {},
   "outputs": [],
   "source": [
    "data_path = os.path.join('data', 'puzzles')\n",
    "\n",
    "data_pandas = pd.concat([\n",
    "    pd.read_parquet(os.path.join(data_path, 'puzzles_3m.parquet')),\n",
    "    pd.read_parquet(os.path.join(data_path, 'solutions_3m.parquet'))\n",
    "    ],\n",
    "    axis=1,\n",
    ").astype('int32')\n",
    "\n",
    "# 81: is labels"
   ]
  },
  {
   "cell_type": "markdown",
   "metadata": {},
   "source": [
    "# NN Stuff"
   ]
  },
  {
   "cell_type": "markdown",
   "metadata": {},
   "source": [
    "## Dataloading"
   ]
  },
  {
   "cell_type": "code",
   "execution_count": 3,
   "metadata": {},
   "outputs": [],
   "source": [
    "import torch\n",
    "from torch import nn\n",
    "from torch.utils.data import DataLoader, Dataset\n",
    "from torch.distributions.categorical import Categorical\n",
    "\n",
    "from sklearn.model_selection import train_test_split"
   ]
  },
  {
   "cell_type": "code",
   "execution_count": 4,
   "metadata": {},
   "outputs": [],
   "source": [
    "class SudokuDataset(Dataset):\n",
    "    def __init__(self, data) -> None:\n",
    "\n",
    "        self.data = data\n",
    "        super().__init__()\n",
    "\n",
    "    def __len__(self):\n",
    "        return len(self.data)\n",
    "\n",
    "    def __getitem__(self, index):\n",
    "        label = self.data[index, 81:].astype('int64')\n",
    "        data = self.data[index, :81].astype('float32')\n",
    "\n",
    "        return data, label\n"
   ]
  },
  {
   "cell_type": "code",
   "execution_count": 68,
   "metadata": {},
   "outputs": [],
   "source": [
    "device = ('cuda' if torch.cuda.is_available() else 'cpu')\n",
    "# split data\n",
    "batch_size = 500\n",
    "train_size = int(0.2 * len(data_pandas))\n",
    "\n",
    "train_data, test_data = train_test_split(\n",
    "    data_pandas, \n",
    "    test_size=len(data_pandas) - train_size, \n",
    "    train_size=train_size\n",
    ")\n",
    "\n",
    "# init torch dataloaders\n",
    "train_data = DataLoader(\n",
    "    SudokuDataset(train_data.to_numpy()),\n",
    "    batch_size=batch_size \n",
    ")\n",
    "test_data = DataLoader(\n",
    "    SudokuDataset(test_data.to_numpy()),\n",
    "    batch_size=batch_size\n",
    ")"
   ]
  },
  {
   "cell_type": "code",
   "execution_count": 87,
   "metadata": {},
   "outputs": [],
   "source": [
    "batch_size = 20000"
   ]
  },
  {
   "cell_type": "markdown",
   "metadata": {},
   "source": [
    "## model definition"
   ]
  },
  {
   "cell_type": "code",
   "execution_count": 88,
   "metadata": {},
   "outputs": [],
   "source": [
    "# Might need to come back with a convNN\n",
    "\n",
    "class NeuralNetwork(nn.Module):\n",
    "    def __init__(self, input_size=81) -> None:\n",
    "        super().__init__(),\n",
    "        self.input_size = input_size\n",
    "        self.flatten = nn.Flatten()\n",
    "        # need to convert data to float\n",
    "        self.linear_relu_stack = nn.Sequential(\n",
    "            nn.Linear(input_size, 512),\n",
    "            nn.ReLU(),\n",
    "            nn.Linear(512,1024),\n",
    "            nn.ReLU(),\n",
    "            nn.Linear(1024,2048),\n",
    "            nn.ReLU(),\n",
    "            nn.Linear(2048,4096),\n",
    "            nn.ReLU(),\n",
    "            nn.Linear(4096,2048),\n",
    "            nn.ReLU(),\n",
    "            nn.Linear(2048, 1024),\n",
    "            nn.ReLU(),\n",
    "            nn.Linear(1024, input_size * 9),\n",
    "            nn.ReLU()\n",
    "        )\n",
    "\n",
    "    def forward(self, x):\n",
    "        # might not have to flatten as its already linear\n",
    "        x = self.flatten(x)\n",
    "        x = x.to(torch.float32)\n",
    "        logits = self.linear_relu_stack(x)\n",
    "        \n",
    "        # reshape for categorical\n",
    "        # len(logits) = batch_size \n",
    "        logits = logits.reshape(len(logits), self.input_size, 9)\n",
    "\n",
    "        logits = torch.softmax(logits, dim=2)\n",
    "\n",
    "        return logits\n",
    "\n",
    "model = NeuralNetwork(\n",
    "    input_size=data_pandas.shape[1] // 2\n",
    ").to(device)\n",
    "\n",
    "loss_fn = nn.CrossEntropyLoss()\n",
    "optimizer = torch.optim.Adam(model.parameters(), lr=100)"
   ]
  },
  {
   "cell_type": "markdown",
   "metadata": {},
   "source": [
    "## trainer definition"
   ]
  },
  {
   "cell_type": "code",
   "execution_count": 89,
   "metadata": {},
   "outputs": [],
   "source": [
    "def train(dataloader, model, loss_fn, optimizer, batch_print=100):\n",
    "    size = len(dataloader.dataset)\n",
    "    model.train()\n",
    "    for batch, (X, y) in enumerate(dataloader):\n",
    "        optimizer.zero_grad()\n",
    "        X, y = X.to(device), y.to(device)\n",
    "        y = y - 1 # accounting for index 0\n",
    "\n",
    "        pred = model(X)\n",
    "        pred = pred.view(-1, 81, 9) # reshape to [batch, 81, 9]\n",
    "\n",
    "        loss = loss_fn(pred.permute(0, 2, 1), y) # Permute to [batch, 9, 81]\n",
    "        loss.backward()\n",
    "        optimizer.step()\n",
    "\n",
    "        if batch % batch_print == 0:\n",
    "            loss, current = loss.item(), (batch+1) * len(X)\n",
    "            print(f'loss: {loss:>7f} [{current:<5d}/{size:>5d}]')"
   ]
  },
  {
   "cell_type": "markdown",
   "metadata": {},
   "source": [
    "## Train"
   ]
  },
  {
   "cell_type": "code",
   "execution_count": 90,
   "metadata": {},
   "outputs": [
    {
     "name": "stdout",
     "output_type": "stream",
     "text": [
      "Epoch 1\n",
      "-----------\n",
      "loss: 2.197226 [500  /600000]\n",
      "loss: 2.260464 [50500/600000]\n",
      "loss: 2.260613 [100500/600000]\n",
      "loss: 2.258637 [150500/600000]\n",
      "loss: 2.261279 [200500/600000]\n",
      "loss: 2.262588 [250500/600000]\n",
      "loss: 2.259798 [300500/600000]\n",
      "loss: 2.261600 [350500/600000]\n",
      "loss: 2.263798 [400500/600000]\n",
      "loss: 2.259823 [450500/600000]\n",
      "loss: 2.259428 [500500/600000]\n",
      "loss: 2.261551 [550500/600000]\n",
      "Epoch 2\n",
      "-----------\n",
      "loss: 2.245921 [500  /600000]\n",
      "loss: 2.260464 [50500/600000]\n",
      "loss: 2.260613 [100500/600000]\n",
      "loss: 2.258637 [150500/600000]\n",
      "loss: 2.261279 [200500/600000]\n",
      "loss: 2.262588 [250500/600000]\n",
      "loss: 2.259798 [300500/600000]\n",
      "loss: 2.261600 [350500/600000]\n",
      "loss: 2.263798 [400500/600000]\n",
      "loss: 2.259823 [450500/600000]\n",
      "loss: 2.259428 [500500/600000]\n",
      "loss: 2.261551 [550500/600000]\n",
      "Epoch 3\n",
      "-----------\n",
      "loss: 2.245921 [500  /600000]\n",
      "loss: 2.260464 [50500/600000]\n",
      "loss: 2.260613 [100500/600000]\n",
      "loss: 2.258637 [150500/600000]\n",
      "loss: 2.261279 [200500/600000]\n",
      "loss: 2.262588 [250500/600000]\n",
      "loss: 2.259798 [300500/600000]\n",
      "loss: 2.261600 [350500/600000]\n",
      "loss: 2.263798 [400500/600000]\n",
      "loss: 2.259823 [450500/600000]\n",
      "loss: 2.259428 [500500/600000]\n",
      "loss: 2.261551 [550500/600000]\n",
      "Epoch 4\n",
      "-----------\n",
      "loss: 2.245921 [500  /600000]\n",
      "loss: 2.260464 [50500/600000]\n",
      "loss: 2.260613 [100500/600000]\n",
      "loss: 2.258637 [150500/600000]\n",
      "loss: 2.261279 [200500/600000]\n",
      "loss: 2.262588 [250500/600000]\n",
      "loss: 2.259798 [300500/600000]\n",
      "loss: 2.261600 [350500/600000]\n",
      "loss: 2.263798 [400500/600000]\n",
      "loss: 2.259823 [450500/600000]\n",
      "loss: 2.259428 [500500/600000]\n",
      "loss: 2.261551 [550500/600000]\n",
      "Epoch 5\n",
      "-----------\n",
      "loss: 2.245921 [500  /600000]\n",
      "loss: 2.260464 [50500/600000]\n",
      "loss: 2.260613 [100500/600000]\n",
      "loss: 2.258637 [150500/600000]\n",
      "loss: 2.261279 [200500/600000]\n",
      "loss: 2.262588 [250500/600000]\n",
      "loss: 2.259798 [300500/600000]\n",
      "loss: 2.261600 [350500/600000]\n",
      "loss: 2.263798 [400500/600000]\n",
      "loss: 2.259823 [450500/600000]\n",
      "loss: 2.259428 [500500/600000]\n",
      "loss: 2.261551 [550500/600000]\n",
      "Epoch 6\n",
      "-----------\n",
      "loss: 2.245921 [500  /600000]\n",
      "loss: 2.260464 [50500/600000]\n",
      "loss: 2.260613 [100500/600000]\n",
      "loss: 2.258637 [150500/600000]\n",
      "loss: 2.261279 [200500/600000]\n",
      "loss: 2.262588 [250500/600000]\n",
      "loss: 2.259798 [300500/600000]\n",
      "loss: 2.261600 [350500/600000]\n",
      "loss: 2.263798 [400500/600000]\n",
      "loss: 2.259823 [450500/600000]\n",
      "loss: 2.259428 [500500/600000]\n",
      "loss: 2.261551 [550500/600000]\n",
      "Epoch 7\n",
      "-----------\n",
      "loss: 2.245921 [500  /600000]\n",
      "loss: 2.260464 [50500/600000]\n",
      "loss: 2.260613 [100500/600000]\n",
      "loss: 2.258637 [150500/600000]\n",
      "loss: 2.261279 [200500/600000]\n",
      "loss: 2.262588 [250500/600000]\n",
      "loss: 2.259798 [300500/600000]\n",
      "loss: 2.261600 [350500/600000]\n",
      "loss: 2.263798 [400500/600000]\n",
      "loss: 2.259823 [450500/600000]\n",
      "loss: 2.259428 [500500/600000]\n",
      "loss: 2.261551 [550500/600000]\n",
      "Epoch 8\n",
      "-----------\n",
      "loss: 2.245921 [500  /600000]\n",
      "loss: 2.260464 [50500/600000]\n",
      "loss: 2.260613 [100500/600000]\n",
      "loss: 2.258637 [150500/600000]\n",
      "loss: 2.261279 [200500/600000]\n",
      "loss: 2.262588 [250500/600000]\n",
      "loss: 2.259798 [300500/600000]\n",
      "loss: 2.261600 [350500/600000]\n",
      "loss: 2.263798 [400500/600000]\n",
      "loss: 2.259823 [450500/600000]\n",
      "loss: 2.259428 [500500/600000]\n",
      "loss: 2.261551 [550500/600000]\n",
      "Epoch 9\n",
      "-----------\n",
      "loss: 2.245921 [500  /600000]\n",
      "loss: 2.260464 [50500/600000]\n",
      "loss: 2.260613 [100500/600000]\n",
      "loss: 2.258637 [150500/600000]\n",
      "loss: 2.261279 [200500/600000]\n",
      "loss: 2.262588 [250500/600000]\n",
      "loss: 2.259798 [300500/600000]\n",
      "loss: 2.261600 [350500/600000]\n",
      "loss: 2.263798 [400500/600000]\n",
      "loss: 2.259823 [450500/600000]\n"
     ]
    },
    {
     "ename": "KeyboardInterrupt",
     "evalue": "",
     "output_type": "error",
     "traceback": [
      "\u001b[0;31m---------------------------------------------------------------------------\u001b[0m",
      "\u001b[0;31mKeyboardInterrupt\u001b[0m                         Traceback (most recent call last)",
      "Cell \u001b[0;32mIn[90], line 4\u001b[0m\n\u001b[1;32m      2\u001b[0m \u001b[38;5;28;01mfor\u001b[39;00m t \u001b[38;5;129;01min\u001b[39;00m \u001b[38;5;28mrange\u001b[39m(epochs):\n\u001b[1;32m      3\u001b[0m     \u001b[38;5;28mprint\u001b[39m(\u001b[38;5;124mf\u001b[39m\u001b[38;5;124m'\u001b[39m\u001b[38;5;124mEpoch \u001b[39m\u001b[38;5;132;01m{\u001b[39;00mt\u001b[38;5;241m+\u001b[39m\u001b[38;5;241m1\u001b[39m\u001b[38;5;132;01m}\u001b[39;00m\u001b[38;5;130;01m\\n\u001b[39;00m\u001b[38;5;124m-----------\u001b[39m\u001b[38;5;124m'\u001b[39m)\n\u001b[0;32m----> 4\u001b[0m     \u001b[43mtrain\u001b[49m\u001b[43m(\u001b[49m\u001b[43mtrain_data\u001b[49m\u001b[43m,\u001b[49m\u001b[43m \u001b[49m\u001b[43mmodel\u001b[49m\u001b[43m,\u001b[49m\u001b[43m \u001b[49m\u001b[43mloss_fn\u001b[49m\u001b[43m,\u001b[49m\u001b[43m \u001b[49m\u001b[43moptimizer\u001b[49m\u001b[43m,\u001b[49m\u001b[43m \u001b[49m\u001b[43mbatch_print\u001b[49m\u001b[38;5;241;43m=\u001b[39;49m\u001b[38;5;241;43m100\u001b[39;49m\u001b[43m)\u001b[49m\n\u001b[1;32m      6\u001b[0m \u001b[38;5;28mprint\u001b[39m(\u001b[38;5;124m'\u001b[39m\u001b[38;5;124mDone!\u001b[39m\u001b[38;5;124m'\u001b[39m)\n",
      "Cell \u001b[0;32mIn[89], line 9\u001b[0m, in \u001b[0;36mtrain\u001b[0;34m(dataloader, model, loss_fn, optimizer, batch_print)\u001b[0m\n\u001b[1;32m      6\u001b[0m X, y \u001b[38;5;241m=\u001b[39m X\u001b[38;5;241m.\u001b[39mto(device), y\u001b[38;5;241m.\u001b[39mto(device)\n\u001b[1;32m      7\u001b[0m y \u001b[38;5;241m=\u001b[39m y \u001b[38;5;241m-\u001b[39m \u001b[38;5;241m1\u001b[39m \u001b[38;5;66;03m# accounting for index 0\u001b[39;00m\n\u001b[0;32m----> 9\u001b[0m pred \u001b[38;5;241m=\u001b[39m \u001b[43mmodel\u001b[49m\u001b[43m(\u001b[49m\u001b[43mX\u001b[49m\u001b[43m)\u001b[49m\n\u001b[1;32m     10\u001b[0m pred \u001b[38;5;241m=\u001b[39m pred\u001b[38;5;241m.\u001b[39mview(\u001b[38;5;241m-\u001b[39m\u001b[38;5;241m1\u001b[39m, \u001b[38;5;241m81\u001b[39m, \u001b[38;5;241m9\u001b[39m) \u001b[38;5;66;03m# reshape to [batch, 81, 9]\u001b[39;00m\n\u001b[1;32m     12\u001b[0m loss \u001b[38;5;241m=\u001b[39m loss_fn(pred\u001b[38;5;241m.\u001b[39mpermute(\u001b[38;5;241m0\u001b[39m, \u001b[38;5;241m2\u001b[39m, \u001b[38;5;241m1\u001b[39m), y) \u001b[38;5;66;03m# Permute to [batch, 9, 81]\u001b[39;00m\n",
      "File \u001b[0;32m~/anaconda3/envs/data-science/lib/python3.12/site-packages/torch/nn/modules/module.py:1532\u001b[0m, in \u001b[0;36mModule._wrapped_call_impl\u001b[0;34m(self, *args, **kwargs)\u001b[0m\n\u001b[1;32m   1530\u001b[0m     \u001b[38;5;28;01mreturn\u001b[39;00m \u001b[38;5;28mself\u001b[39m\u001b[38;5;241m.\u001b[39m_compiled_call_impl(\u001b[38;5;241m*\u001b[39margs, \u001b[38;5;241m*\u001b[39m\u001b[38;5;241m*\u001b[39mkwargs)  \u001b[38;5;66;03m# type: ignore[misc]\u001b[39;00m\n\u001b[1;32m   1531\u001b[0m \u001b[38;5;28;01melse\u001b[39;00m:\n\u001b[0;32m-> 1532\u001b[0m     \u001b[38;5;28;01mreturn\u001b[39;00m \u001b[38;5;28;43mself\u001b[39;49m\u001b[38;5;241;43m.\u001b[39;49m\u001b[43m_call_impl\u001b[49m\u001b[43m(\u001b[49m\u001b[38;5;241;43m*\u001b[39;49m\u001b[43margs\u001b[49m\u001b[43m,\u001b[49m\u001b[43m \u001b[49m\u001b[38;5;241;43m*\u001b[39;49m\u001b[38;5;241;43m*\u001b[39;49m\u001b[43mkwargs\u001b[49m\u001b[43m)\u001b[49m\n",
      "File \u001b[0;32m~/anaconda3/envs/data-science/lib/python3.12/site-packages/torch/nn/modules/module.py:1541\u001b[0m, in \u001b[0;36mModule._call_impl\u001b[0;34m(self, *args, **kwargs)\u001b[0m\n\u001b[1;32m   1536\u001b[0m \u001b[38;5;66;03m# If we don't have any hooks, we want to skip the rest of the logic in\u001b[39;00m\n\u001b[1;32m   1537\u001b[0m \u001b[38;5;66;03m# this function, and just call forward.\u001b[39;00m\n\u001b[1;32m   1538\u001b[0m \u001b[38;5;28;01mif\u001b[39;00m \u001b[38;5;129;01mnot\u001b[39;00m (\u001b[38;5;28mself\u001b[39m\u001b[38;5;241m.\u001b[39m_backward_hooks \u001b[38;5;129;01mor\u001b[39;00m \u001b[38;5;28mself\u001b[39m\u001b[38;5;241m.\u001b[39m_backward_pre_hooks \u001b[38;5;129;01mor\u001b[39;00m \u001b[38;5;28mself\u001b[39m\u001b[38;5;241m.\u001b[39m_forward_hooks \u001b[38;5;129;01mor\u001b[39;00m \u001b[38;5;28mself\u001b[39m\u001b[38;5;241m.\u001b[39m_forward_pre_hooks\n\u001b[1;32m   1539\u001b[0m         \u001b[38;5;129;01mor\u001b[39;00m _global_backward_pre_hooks \u001b[38;5;129;01mor\u001b[39;00m _global_backward_hooks\n\u001b[1;32m   1540\u001b[0m         \u001b[38;5;129;01mor\u001b[39;00m _global_forward_hooks \u001b[38;5;129;01mor\u001b[39;00m _global_forward_pre_hooks):\n\u001b[0;32m-> 1541\u001b[0m     \u001b[38;5;28;01mreturn\u001b[39;00m \u001b[43mforward_call\u001b[49m\u001b[43m(\u001b[49m\u001b[38;5;241;43m*\u001b[39;49m\u001b[43margs\u001b[49m\u001b[43m,\u001b[49m\u001b[43m \u001b[49m\u001b[38;5;241;43m*\u001b[39;49m\u001b[38;5;241;43m*\u001b[39;49m\u001b[43mkwargs\u001b[49m\u001b[43m)\u001b[49m\n\u001b[1;32m   1543\u001b[0m \u001b[38;5;28;01mtry\u001b[39;00m:\n\u001b[1;32m   1544\u001b[0m     result \u001b[38;5;241m=\u001b[39m \u001b[38;5;28;01mNone\u001b[39;00m\n",
      "Cell \u001b[0;32mIn[88], line 28\u001b[0m, in \u001b[0;36mNeuralNetwork.forward\u001b[0;34m(self, x)\u001b[0m\n\u001b[1;32m     26\u001b[0m x \u001b[38;5;241m=\u001b[39m \u001b[38;5;28mself\u001b[39m\u001b[38;5;241m.\u001b[39mflatten(x)\n\u001b[1;32m     27\u001b[0m x \u001b[38;5;241m=\u001b[39m x\u001b[38;5;241m.\u001b[39mto(torch\u001b[38;5;241m.\u001b[39mfloat32)\n\u001b[0;32m---> 28\u001b[0m logits \u001b[38;5;241m=\u001b[39m \u001b[38;5;28;43mself\u001b[39;49m\u001b[38;5;241;43m.\u001b[39;49m\u001b[43mlinear_relu_stack\u001b[49m\u001b[43m(\u001b[49m\u001b[43mx\u001b[49m\u001b[43m)\u001b[49m\n\u001b[1;32m     30\u001b[0m \u001b[38;5;66;03m# reshape for categorical\u001b[39;00m\n\u001b[1;32m     31\u001b[0m \u001b[38;5;66;03m# len(logits) = batch_size \u001b[39;00m\n\u001b[1;32m     32\u001b[0m logits \u001b[38;5;241m=\u001b[39m logits\u001b[38;5;241m.\u001b[39mreshape(\u001b[38;5;28mlen\u001b[39m(logits), \u001b[38;5;28mself\u001b[39m\u001b[38;5;241m.\u001b[39minput_size, \u001b[38;5;241m9\u001b[39m)\n",
      "File \u001b[0;32m~/anaconda3/envs/data-science/lib/python3.12/site-packages/torch/nn/modules/module.py:1532\u001b[0m, in \u001b[0;36mModule._wrapped_call_impl\u001b[0;34m(self, *args, **kwargs)\u001b[0m\n\u001b[1;32m   1530\u001b[0m     \u001b[38;5;28;01mreturn\u001b[39;00m \u001b[38;5;28mself\u001b[39m\u001b[38;5;241m.\u001b[39m_compiled_call_impl(\u001b[38;5;241m*\u001b[39margs, \u001b[38;5;241m*\u001b[39m\u001b[38;5;241m*\u001b[39mkwargs)  \u001b[38;5;66;03m# type: ignore[misc]\u001b[39;00m\n\u001b[1;32m   1531\u001b[0m \u001b[38;5;28;01melse\u001b[39;00m:\n\u001b[0;32m-> 1532\u001b[0m     \u001b[38;5;28;01mreturn\u001b[39;00m \u001b[38;5;28;43mself\u001b[39;49m\u001b[38;5;241;43m.\u001b[39;49m\u001b[43m_call_impl\u001b[49m\u001b[43m(\u001b[49m\u001b[38;5;241;43m*\u001b[39;49m\u001b[43margs\u001b[49m\u001b[43m,\u001b[49m\u001b[43m \u001b[49m\u001b[38;5;241;43m*\u001b[39;49m\u001b[38;5;241;43m*\u001b[39;49m\u001b[43mkwargs\u001b[49m\u001b[43m)\u001b[49m\n",
      "File \u001b[0;32m~/anaconda3/envs/data-science/lib/python3.12/site-packages/torch/nn/modules/module.py:1541\u001b[0m, in \u001b[0;36mModule._call_impl\u001b[0;34m(self, *args, **kwargs)\u001b[0m\n\u001b[1;32m   1536\u001b[0m \u001b[38;5;66;03m# If we don't have any hooks, we want to skip the rest of the logic in\u001b[39;00m\n\u001b[1;32m   1537\u001b[0m \u001b[38;5;66;03m# this function, and just call forward.\u001b[39;00m\n\u001b[1;32m   1538\u001b[0m \u001b[38;5;28;01mif\u001b[39;00m \u001b[38;5;129;01mnot\u001b[39;00m (\u001b[38;5;28mself\u001b[39m\u001b[38;5;241m.\u001b[39m_backward_hooks \u001b[38;5;129;01mor\u001b[39;00m \u001b[38;5;28mself\u001b[39m\u001b[38;5;241m.\u001b[39m_backward_pre_hooks \u001b[38;5;129;01mor\u001b[39;00m \u001b[38;5;28mself\u001b[39m\u001b[38;5;241m.\u001b[39m_forward_hooks \u001b[38;5;129;01mor\u001b[39;00m \u001b[38;5;28mself\u001b[39m\u001b[38;5;241m.\u001b[39m_forward_pre_hooks\n\u001b[1;32m   1539\u001b[0m         \u001b[38;5;129;01mor\u001b[39;00m _global_backward_pre_hooks \u001b[38;5;129;01mor\u001b[39;00m _global_backward_hooks\n\u001b[1;32m   1540\u001b[0m         \u001b[38;5;129;01mor\u001b[39;00m _global_forward_hooks \u001b[38;5;129;01mor\u001b[39;00m _global_forward_pre_hooks):\n\u001b[0;32m-> 1541\u001b[0m     \u001b[38;5;28;01mreturn\u001b[39;00m \u001b[43mforward_call\u001b[49m\u001b[43m(\u001b[49m\u001b[38;5;241;43m*\u001b[39;49m\u001b[43margs\u001b[49m\u001b[43m,\u001b[49m\u001b[43m \u001b[49m\u001b[38;5;241;43m*\u001b[39;49m\u001b[38;5;241;43m*\u001b[39;49m\u001b[43mkwargs\u001b[49m\u001b[43m)\u001b[49m\n\u001b[1;32m   1543\u001b[0m \u001b[38;5;28;01mtry\u001b[39;00m:\n\u001b[1;32m   1544\u001b[0m     result \u001b[38;5;241m=\u001b[39m \u001b[38;5;28;01mNone\u001b[39;00m\n",
      "File \u001b[0;32m~/anaconda3/envs/data-science/lib/python3.12/site-packages/torch/nn/modules/container.py:217\u001b[0m, in \u001b[0;36mSequential.forward\u001b[0;34m(self, input)\u001b[0m\n\u001b[1;32m    215\u001b[0m \u001b[38;5;28;01mdef\u001b[39;00m \u001b[38;5;21mforward\u001b[39m(\u001b[38;5;28mself\u001b[39m, \u001b[38;5;28minput\u001b[39m):\n\u001b[1;32m    216\u001b[0m     \u001b[38;5;28;01mfor\u001b[39;00m module \u001b[38;5;129;01min\u001b[39;00m \u001b[38;5;28mself\u001b[39m:\n\u001b[0;32m--> 217\u001b[0m         \u001b[38;5;28minput\u001b[39m \u001b[38;5;241m=\u001b[39m \u001b[43mmodule\u001b[49m\u001b[43m(\u001b[49m\u001b[38;5;28;43minput\u001b[39;49m\u001b[43m)\u001b[49m\n\u001b[1;32m    218\u001b[0m     \u001b[38;5;28;01mreturn\u001b[39;00m \u001b[38;5;28minput\u001b[39m\n",
      "File \u001b[0;32m~/anaconda3/envs/data-science/lib/python3.12/site-packages/torch/nn/modules/module.py:1528\u001b[0m, in \u001b[0;36mModule._wrapped_call_impl\u001b[0;34m(self, *args, **kwargs)\u001b[0m\n\u001b[1;32m   1525\u001b[0m             tracing_state\u001b[38;5;241m.\u001b[39mpop_scope()\n\u001b[1;32m   1526\u001b[0m     \u001b[38;5;28;01mreturn\u001b[39;00m result\n\u001b[0;32m-> 1528\u001b[0m \u001b[38;5;28;01mdef\u001b[39;00m \u001b[38;5;21m_wrapped_call_impl\u001b[39m(\u001b[38;5;28mself\u001b[39m, \u001b[38;5;241m*\u001b[39margs, \u001b[38;5;241m*\u001b[39m\u001b[38;5;241m*\u001b[39mkwargs):\n\u001b[1;32m   1529\u001b[0m     \u001b[38;5;28;01mif\u001b[39;00m \u001b[38;5;28mself\u001b[39m\u001b[38;5;241m.\u001b[39m_compiled_call_impl \u001b[38;5;129;01mis\u001b[39;00m \u001b[38;5;129;01mnot\u001b[39;00m \u001b[38;5;28;01mNone\u001b[39;00m:\n\u001b[1;32m   1530\u001b[0m         \u001b[38;5;28;01mreturn\u001b[39;00m \u001b[38;5;28mself\u001b[39m\u001b[38;5;241m.\u001b[39m_compiled_call_impl(\u001b[38;5;241m*\u001b[39margs, \u001b[38;5;241m*\u001b[39m\u001b[38;5;241m*\u001b[39mkwargs)  \u001b[38;5;66;03m# type: ignore[misc]\u001b[39;00m\n",
      "\u001b[0;31mKeyboardInterrupt\u001b[0m: "
     ]
    }
   ],
   "source": [
    "epochs = 15\n",
    "for t in range(epochs):\n",
    "    print(f'Epoch {t+1}\\n-----------')\n",
    "    train(train_data, model, loss_fn, optimizer, batch_print=100)\n",
    "\n",
    "print('Done!')"
   ]
  },
  {
   "cell_type": "markdown",
   "metadata": {},
   "source": [
    "## Example Prediction"
   ]
  },
  {
   "cell_type": "code",
   "execution_count": null,
   "metadata": {},
   "outputs": [
    {
     "name": "stdout",
     "output_type": "stream",
     "text": [
      "(600000, 162)\n",
      "tensor([0, 0, 8, 0, 0, 6, 2, 0, 0, 3, 0, 0, 0, 1, 0, 5, 0, 0, 6, 0, 0, 0, 5, 0,\n",
      "        0, 7, 4, 0, 7, 0, 6, 0, 0, 0, 2, 0, 4, 0, 0, 0, 0, 0, 0, 0, 1, 9, 0, 3,\n",
      "        2, 0, 0, 0, 4, 0, 1, 3, 0, 0, 0, 0, 0, 0, 0, 0, 0, 4, 3, 2, 0, 0, 6, 0,\n",
      "        0, 0, 0, 0, 0, 8, 0, 0, 0], device='cuda:0', dtype=torch.int32)\n",
      "\n",
      "pred\n",
      "tensor([6, 4, 5, 5, 0, 8, 8, 4, 5, 8, 7, 3, 1, 2, 2, 3, 1, 3, 0, 3, 2, 7, 1, 7,\n",
      "        5, 4, 0, 5, 3, 7, 3, 4, 6, 7, 8, 1, 4, 2, 1, 3, 7, 5, 0, 0, 1, 3, 8, 1,\n",
      "        0, 5, 7, 6, 3, 0, 2, 2, 1, 3, 6, 4, 3, 5, 3, 1, 5, 6, 1, 7, 7, 1, 0, 8,\n",
      "        5, 0, 1, 5, 6, 8, 3, 7, 7], device='cuda:0')\n",
      "\n",
      "\n",
      "tensor([6, 4, 7, 3, 2, 5, 1, 0, 8, 2, 3, 1, 8, 0, 6, 4, 7, 5, 5, 0, 8, 7, 4, 1,\n",
      "        2, 6, 3, 4, 6, 0, 5, 3, 2, 8, 1, 7, 3, 1, 5, 4, 7, 8, 6, 2, 0, 8, 7, 2,\n",
      "        1, 6, 0, 5, 3, 4, 0, 2, 4, 6, 5, 3, 7, 8, 1, 7, 8, 3, 2, 1, 4, 0, 5, 6,\n",
      "        1, 5, 6, 0, 8, 7, 3, 4, 2], device='cuda:0', dtype=torch.int32)\n"
     ]
    }
   ],
   "source": [
    "print(test_data.dataset.data.shape)\n",
    "\n",
    "x = torch.tensor(test_data.dataset.data[0:2, :81]).to(device)\n",
    "y = torch.tensor(test_data.dataset.data[0:2, 81:]).to(device)\n",
    "\n",
    "pred = model(x)\n",
    "print(x[0])\n",
    "print('\\npred')\n",
    "print(torch.argmax(pred[0], dim=1))\n",
    "print('\\n')\n",
    "\n",
    "print(y[0] - 1)\n"
   ]
  },
  {
   "cell_type": "code",
   "execution_count": null,
   "metadata": {},
   "outputs": [],
   "source": []
  }
 ],
 "metadata": {
  "kernelspec": {
   "display_name": "data-science",
   "language": "python",
   "name": "python3"
  },
  "language_info": {
   "codemirror_mode": {
    "name": "ipython",
    "version": 3
   },
   "file_extension": ".py",
   "mimetype": "text/x-python",
   "name": "python",
   "nbconvert_exporter": "python",
   "pygments_lexer": "ipython3",
   "version": "3.12.0"
  }
 },
 "nbformat": 4,
 "nbformat_minor": 2
}
